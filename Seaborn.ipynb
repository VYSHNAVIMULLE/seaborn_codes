{
  "cells": [
    {
      "cell_type": "code",
      "execution_count": null,
      "metadata": {
        "colab": {
          "base_uri": "https://localhost:8080/",
          "height": 269
        },
        "id": "94t8fgLt6d9f",
        "outputId": "9c89d0d2-d15f-44c1-d2fe-5b6c6c534e56"
      },
      "outputs": [
        {
          "ename": "",
          "evalue": "",
          "output_type": "error",
          "traceback": [
            "\u001b[1;31mThe kernel failed to start as 'filefind' could not be imported from 'c:\\Users\\91934\\Anaconda3\\lib\\site-packages\\traitlets\\utils\\__init__.py'.\n",
            "\u001b[1;31mClick <a href='https://aka.ms/kernelFailuresModuleImportErrFromFile'>here</a> for more info."
          ]
        }
      ],
      "source": [
        "import seaborn as sns\n",
        "import matplotlib.pyplot as plt\n",
        "import pandas as pd\n",
        "\n",
        "x = [1,2,3,4,5,6,7]\n",
        "y = [20,40,30,40,30,50,30]\n",
        "\n",
        "df = pd.DataFrame({\"Days\":x, \"No of people\": y})\n",
        "df.head(7)"
      ]
    },
    {
      "cell_type": "code",
      "execution_count": null,
      "metadata": {
        "colab": {
          "base_uri": "https://localhost:8080/",
          "height": 356
        },
        "id": "hsDmfF3z8tBT",
        "outputId": "d07eb253-a666-4642-85b9-be9c4be002db"
      },
      "outputs": [],
      "source": [
        "sns.lineplot(x = \"Days\", y = \"No of People\", data = df)\n",
        "plt.show()"
      ]
    },
    {
      "cell_type": "code",
      "execution_count": null,
      "metadata": {
        "colab": {
          "base_uri": "https://localhost:8080/",
          "height": 449
        },
        "id": "2ymsTYj88xYg",
        "outputId": "f9d1fbe1-5a79-4ad8-eb5c-6cb1717671a2"
      },
      "outputs": [],
      "source": [
        "sns.lineplot(x = \"Days\", y = \"No of people\", data = df) # Changed 'No of People' to 'No of people'\n",
        "plt.show()"
      ]
    },
    {
      "cell_type": "code",
      "execution_count": null,
      "metadata": {
        "colab": {
          "base_uri": "https://localhost:8080/"
        },
        "id": "G6HWgxtr9Jzl",
        "outputId": "e151da25-7af0-483b-b001-3b0fb70824ce"
      },
      "outputs": [],
      "source": [
        "import seaborn as sns\n",
        "\n",
        "# Provide the name of the dataset to load. For example, 'iris', 'titanic', etc.\n",
        "dataset_name = \"iris\"  # Replace with the desired dataset name\n",
        "iris_df = sns.load_dataset(dataset_name)\n",
        "\n",
        "# Now you can use the loaded dataset 'iris_df'\n",
        "print(iris_df.head())"
      ]
    },
    {
      "cell_type": "code",
      "execution_count": null,
      "metadata": {
        "colab": {
          "base_uri": "https://localhost:8080/",
          "height": 449
        },
        "id": "lEJGD86r9zxb",
        "outputId": "f277beab-e93e-4353-8a1f-9b1966b45e74"
      },
      "outputs": [],
      "source": [
        "sns.lineplot(x = \"Days\", y = \"No of people\", data = df) # Changed 'day' to 'Days' and 'total_bill' to 'No of people'\n",
        "plt.show()"
      ]
    },
    {
      "cell_type": "code",
      "execution_count": null,
      "metadata": {
        "colab": {
          "base_uri": "https://localhost:8080/",
          "height": 206
        },
        "id": "mDjMbiqV98Cu",
        "outputId": "546ff794-701d-4c2a-e59f-4dc6c629a173"
      },
      "outputs": [],
      "source": [
        "import seaborn as sns\n",
        "import matplotlib.pyplot as plt\n",
        "import pandas as pd\n",
        "import numpy as np\n",
        "\n",
        "df = sns.load_dataset(\"iris\")\n",
        "df.head()"
      ]
    },
    {
      "cell_type": "code",
      "execution_count": null,
      "metadata": {
        "colab": {
          "base_uri": "https://localhost:8080/",
          "height": 449
        },
        "id": "Id1nVKjK_dpA",
        "outputId": "ae626dd8-96e5-4061-9705-44bd44120d9d"
      },
      "outputs": [],
      "source": [
        "sns.barplot(x = \"species\", y = \"petal_length\", data = df)\n",
        "plt.show()"
      ]
    },
    {
      "cell_type": "code",
      "execution_count": null,
      "metadata": {
        "colab": {
          "base_uri": "https://localhost:8080/",
          "height": 449
        },
        "id": "T759UDXy_313",
        "outputId": "57d88392-1184-408a-c3e7-0d32343ffb39"
      },
      "outputs": [],
      "source": [
        "sns.barplot(x = \"species\", y = \"petal_length\", data = df, color = \"magenta\")\n",
        "plt.show()"
      ]
    },
    {
      "cell_type": "code",
      "execution_count": null,
      "metadata": {
        "colab": {
          "base_uri": "https://localhost:8080/",
          "height": 449
        },
        "id": "XH0MaDGsASww",
        "outputId": "7116be24-34bc-43a1-92e4-0a50506ef433"
      },
      "outputs": [],
      "source": [
        "sns.barplot(x = \"species\", y = \"petal_length\", data = df, hue = \"species\")\n",
        "plt.show()"
      ]
    },
    {
      "cell_type": "code",
      "execution_count": null,
      "metadata": {
        "colab": {
          "base_uri": "https://localhost:8080/",
          "height": 449
        },
        "id": "9z6pKRvuBHIm",
        "outputId": "39f924ad-1e25-477b-bc11-bc3e8acc4107"
      },
      "outputs": [],
      "source": [
        "sns.barplot(x = \"species\", y = \"petal_length\", data = df, hue = \"species\", palette = \"viridis\") # Changed 'Any' to 'viridis', a valid palette name\n",
        "plt.show()"
      ]
    },
    {
      "cell_type": "code",
      "execution_count": null,
      "metadata": {
        "colab": {
          "base_uri": "https://localhost:8080/",
          "height": 206
        },
        "id": "Z6WVkSsoBSia",
        "outputId": "8d9b0c98-e14b-47c3-fff7-fa4a1128449e"
      },
      "outputs": [],
      "source": [
        "import seaborn as sns\n",
        "import matplotlib.pyplot as plt\n",
        "import pandas as pd\n",
        "\n",
        "df = sns.load_dataset(\"iris\")\n",
        "df.head()"
      ]
    },
    {
      "cell_type": "code",
      "execution_count": null,
      "metadata": {
        "colab": {
          "base_uri": "https://localhost:8080/",
          "height": 450
        },
        "id": "ZNZY4TDyCYf7",
        "outputId": "bd637900-6ae4-4fea-f706-33c32fb9a232"
      },
      "outputs": [],
      "source": [
        "sns.histplot(x=\"petal_length\", data=df) # Changed 'total_bill, data = df' to 'petal_length' and passed df as the data argument.\n",
        "plt.show()"
      ]
    },
    {
      "cell_type": "code",
      "execution_count": null,
      "metadata": {
        "colab": {
          "base_uri": "https://localhost:8080/",
          "height": 450
        },
        "id": "MenxSX3RCcCq",
        "outputId": "7f66818c-e1bc-47ec-a8af-330bcfab56ae"
      },
      "outputs": [],
      "source": [
        "sns.histplot(x=\"petal_length\", data=df, discrete = \"false\") # Changed 'total_bill, data = df' to 'petal_length' and passed df as the data argument.\n",
        "plt.show()"
      ]
    },
    {
      "cell_type": "code",
      "execution_count": null,
      "metadata": {
        "colab": {
          "base_uri": "https://localhost:8080/",
          "height": 450
        },
        "id": "Fl-GJpIdDCdu",
        "outputId": "41a05d97-7eb4-410f-b9d3-8a28ac9dd195"
      },
      "outputs": [],
      "source": [
        "sns.histplot(x=\"petal_length\", data=df,hue = \"species\")\n",
        "plt.show()"
      ]
    },
    {
      "cell_type": "code",
      "execution_count": null,
      "metadata": {
        "colab": {
          "base_uri": "https://localhost:8080/",
          "height": 206
        },
        "id": "y7Pz75MiDWn0",
        "outputId": "1184a822-c1f8-4372-9af8-55d9cc56b5d8"
      },
      "outputs": [],
      "source": [
        "import seaborn as sns\n",
        "import matplotlib.pyplot as plt\n",
        "import pandas as pd\n",
        "\n",
        "df = sns.load_dataset(\"dots\")\n",
        "df.head()"
      ]
    },
    {
      "cell_type": "code",
      "execution_count": null,
      "metadata": {
        "colab": {
          "base_uri": "https://localhost:8080/",
          "height": 449
        },
        "id": "tH0uoVX4EsHg",
        "outputId": "fe7f8d18-f78f-445c-af8c-664670060893"
      },
      "outputs": [],
      "source": [
        "sns.scatterplot(x = \"time\", y = \"firing_rate\", data = df)\n",
        "plt.show()"
      ]
    },
    {
      "cell_type": "code",
      "execution_count": null,
      "metadata": {
        "colab": {
          "base_uri": "https://localhost:8080/",
          "height": 449
        },
        "id": "OqRWLgOYFQk4",
        "outputId": "7a094176-8fd8-4ace-8f3c-5523928c1a45"
      },
      "outputs": [],
      "source": [
        "sns.scatterplot(x =  \"time\", y = \"firing_rate\", data = df, hue = \"choice\")\n",
        "plt.show()"
      ]
    },
    {
      "cell_type": "code",
      "execution_count": null,
      "metadata": {
        "colab": {
          "base_uri": "https://localhost:8080/",
          "height": 449
        },
        "id": "4ee1l_HtFYAl",
        "outputId": "a7147836-d624-4a8b-90a8-6fbd00ef5563"
      },
      "outputs": [],
      "source": [
        "sns.scatterplot(x = \"time\", y = \"firing_rate\", data = df, hue = \"choice\", style = \"choice\")\n",
        "plt.show()"
      ]
    },
    {
      "cell_type": "code",
      "execution_count": null,
      "metadata": {
        "colab": {
          "base_uri": "https://localhost:8080/",
          "height": 449
        },
        "id": "q3Sj_x-3FmFV",
        "outputId": "b3653b6c-a193-435c-8928-5438ef043b69"
      },
      "outputs": [],
      "source": [
        "sns.scatterplot(x = \"time\", y = \"firing_rate\", data = df, marker = \"v\")\n",
        "plt.show()\n"
      ]
    },
    {
      "cell_type": "code",
      "execution_count": null,
      "metadata": {
        "colab": {
          "base_uri": "https://localhost:8080/"
        },
        "id": "4F0sfng5F_J6",
        "outputId": "0d902bd9-42e7-4f47-9c4a-1e14285beb06"
      },
      "outputs": [],
      "source": [
        "import seaborn as sns\n",
        "import matplotlib.pyplot as plt\n",
        "import pandas as pd\n",
        "import numpy as np\n",
        "\n",
        "data = np.random.randint(10, size = (10,1))\n",
        "print (data)"
      ]
    },
    {
      "cell_type": "code",
      "execution_count": null,
      "metadata": {
        "colab": {
          "base_uri": "https://localhost:8080/",
          "height": 452
        },
        "id": "jZ5dg3rFGqgl",
        "outputId": "c084957b-6945-4a8d-db43-ec009a54b4dc"
      },
      "outputs": [],
      "source": [
        "sns.heatmap(data = data)"
      ]
    },
    {
      "cell_type": "code",
      "execution_count": null,
      "metadata": {
        "colab": {
          "base_uri": "https://localhost:8080/",
          "height": 452
        },
        "id": "3bHAiXojG0QY",
        "outputId": "44fa313d-0099-4a64-bffb-32ec37036fa3"
      },
      "outputs": [],
      "source": [
        "sns.heatmap(data = data, cmap = \"Greens\")"
      ]
    },
    {
      "cell_type": "code",
      "execution_count": null,
      "metadata": {
        "colab": {
          "base_uri": "https://localhost:8080/",
          "height": 452
        },
        "id": "yUJHf9ilHJ_o",
        "outputId": "7b6fbeb6-09de-4ccc-ce76-865cff829397"
      },
      "outputs": [],
      "source": [
        "sns.heatmap(data = data, cmap = \"spring\") # Changed 'springs' to 'spring'"
      ]
    },
    {
      "cell_type": "code",
      "execution_count": null,
      "metadata": {
        "colab": {
          "base_uri": "https://localhost:8080/",
          "height": 452
        },
        "id": "9M27COiBHPaU",
        "outputId": "f82cd1ad-2931-46ec-df02-53765cf80839"
      },
      "outputs": [],
      "source": [
        "sns.heatmap(data = data, cmap = \"YlGnBu\")"
      ]
    },
    {
      "cell_type": "code",
      "execution_count": null,
      "metadata": {
        "colab": {
          "base_uri": "https://localhost:8080/",
          "height": 206
        },
        "id": "3y6S9YYtHrs9",
        "outputId": "164e9446-6959-478f-bb04-9c778c8d7bd7"
      },
      "outputs": [],
      "source": [
        "import seaborn as sns\n",
        "import matplotlib.pyplot as plt\n",
        "import seaborn as sns\n",
        "import matplotlib.pyplot as plt\n",
        "import pandas as pd\n",
        "\n",
        "df = sns.load_dataset(\"tips\")\n",
        "df.head()\n"
      ]
    },
    {
      "cell_type": "code",
      "execution_count": null,
      "metadata": {
        "colab": {
          "base_uri": "https://localhost:8080/",
          "height": 466
        },
        "id": "4twxfVYiIKlg",
        "outputId": "46d074e8-355f-42fc-fc68-467eff06eea7"
      },
      "outputs": [],
      "source": [
        "sns.countplot(x = 'tip', data = df)"
      ]
    },
    {
      "cell_type": "code",
      "execution_count": null,
      "metadata": {
        "colab": {
          "base_uri": "https://localhost:8080/",
          "height": 466
        },
        "id": "FDEtX0iUId6k",
        "outputId": "145a678a-22e8-47f4-d69d-d398c90da757"
      },
      "outputs": [],
      "source": [
        "sns.countplot(x = 'tip', data = df, hue = 'sex')"
      ]
    },
    {
      "cell_type": "code",
      "execution_count": null,
      "metadata": {
        "colab": {
          "base_uri": "https://localhost:8080/",
          "height": 466
        },
        "id": "0_d-0E9NIoCz",
        "outputId": "6f25af49-16bf-4530-a83b-302c3bffe5d5"
      },
      "outputs": [],
      "source": [
        "sns.countplot(x = 'sex' , data = df, hue = 'smoker')\n"
      ]
    },
    {
      "cell_type": "code",
      "execution_count": null,
      "metadata": {
        "colab": {
          "base_uri": "https://localhost:8080/",
          "height": 466
        },
        "id": "OiSbNlIiJClA",
        "outputId": "3139e905-b0a6-45b2-ee42-011bc21c2694"
      },
      "outputs": [],
      "source": [
        "sns.countplot(x = 'day' , data = df, hue = 'sex', palette = 'viridis')"
      ]
    },
    {
      "cell_type": "code",
      "execution_count": null,
      "metadata": {
        "colab": {
          "base_uri": "https://localhost:8080/",
          "height": 206
        },
        "id": "EoBxeH7AJK8w",
        "outputId": "82297c0c-ccbe-464e-b21c-0d0c893c007a"
      },
      "outputs": [],
      "source": [
        "import seaborn as sns\n",
        "import matplotlib.pyplot as plt\n",
        "import pandas as pd\n",
        "\n",
        "df = sns.load_dataset(\"tips\")\n",
        "df.head()"
      ]
    },
    {
      "cell_type": "code",
      "execution_count": null,
      "metadata": {
        "colab": {
          "base_uri": "https://localhost:8080/",
          "height": 466
        },
        "id": "fKvr9pxjJrdv",
        "outputId": "394c422d-9f07-43a9-8ca5-04b92930775c"
      },
      "outputs": [],
      "source": [
        "sns.violinplot(x = \"tip\", data = df)"
      ]
    },
    {
      "cell_type": "code",
      "execution_count": null,
      "metadata": {
        "colab": {
          "base_uri": "https://localhost:8080/",
          "height": 466
        },
        "id": "Di_2Ow-tJ7oQ",
        "outputId": "3f294d6f-ddd9-43e3-db77-c91d7a259667"
      },
      "outputs": [],
      "source": [
        "sns.violinplot(x = \"tip\", data = df, color = \"magenta\")"
      ]
    },
    {
      "cell_type": "code",
      "execution_count": null,
      "metadata": {
        "colab": {
          "base_uri": "https://localhost:8080/",
          "height": 467
        },
        "id": "EzrHfxH3KTk_",
        "outputId": "2ffbd75e-079d-45c9-ce75-e11f2bc126c9"
      },
      "outputs": [],
      "source": [
        "sns.violinplot(x = \"sex\", y = \"tip\", data = df, hue = \"day\") # Changed 'days' to 'day'"
      ]
    }
  ],
  "metadata": {
    "colab": {
      "provenance": []
    },
    "kernelspec": {
      "display_name": "base",
      "language": "python",
      "name": "python3"
    },
    "language_info": {
      "name": "python",
      "version": "3.7.4"
    }
  },
  "nbformat": 4,
  "nbformat_minor": 0
}
